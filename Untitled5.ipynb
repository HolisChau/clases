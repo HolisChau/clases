{
  "nbformat": 4,
  "nbformat_minor": 0,
  "metadata": {
    "colab": {
      "provenance": [],
      "authorship_tag": "ABX9TyM6oGGhgVOf5EpexRj7Z7s9",
      "include_colab_link": true
    },
    "kernelspec": {
      "name": "python3",
      "display_name": "Python 3"
    },
    "language_info": {
      "name": "python"
    }
  },
  "cells": [
    {
      "cell_type": "markdown",
      "metadata": {
        "id": "view-in-github",
        "colab_type": "text"
      },
      "source": [
        "<a href=\"https://colab.research.google.com/github/HolisChau/clases/blob/main/Untitled5.ipynb\" target=\"_parent\"><img src=\"https://colab.research.google.com/assets/colab-badge.svg\" alt=\"Open In Colab\"/></a>"
      ]
    },
    {
      "cell_type": "code",
      "execution_count": null,
      "metadata": {
        "colab": {
          "base_uri": "https://localhost:8080/"
        },
        "id": "P6g5Ec_CkTmE",
        "outputId": "9145b9a8-1e5d-4980-b6e6-adac9ae130fa"
      },
      "outputs": [
        {
          "output_type": "stream",
          "name": "stdout",
          "text": [
            "[[20, 15, 25, 30, 18, 22, 24], [12, 20, 14, 8, 15, 18, 16], [35, 28, 32, 30, 26, 24, 30], [40, 38, 45, 42, 39, 41, 37]]\n",
            "Ventas del día Jueves para el producto 0: 30\n",
            "Ventas del día Jueves para el producto 1: 8\n",
            "Ventas del día Jueves para el producto 2: 30\n",
            "Ventas del día Jueves para el producto 3: 42\n",
            "30\n",
            "8\n",
            "30\n",
            "42\n",
            "La suma total de ventas del día jueves es: 110\n"
          ]
        }
      ],
      "source": [
        "a=[20, 15, 25, 30, 18, 22, 24]  #Producto A\n",
        "b=[12, 20, 14, 8, 15, 18, 16]   #Producto B\n",
        "c=[35, 28, 32, 30, 26, 24, 30]  #Producto C\n",
        "d=[40, 38, 45, 42, 39, 41, 37]  #Producto D\n",
        "\n",
        "lista_py_ventas=[a,\n",
        "                 b,\n",
        "                 c,\n",
        "                 d]\n",
        "print(lista_py_ventas)\n",
        "\n",
        "p=0\n",
        "print(f\"Ventas del día Jueves para el producto {p}: {lista_py_ventas[p][3]}\")\n",
        "\n",
        "p=1\n",
        "print(f\"Ventas del día Jueves para el producto {p}: {lista_py_ventas[p][3]}\")\n",
        "\n",
        "p=2\n",
        "print(f\"Ventas del día Jueves para el producto {p}: {lista_py_ventas[p][3]}\")\n",
        "\n",
        "p=3\n",
        "print(f\"Ventas del día Jueves para el producto {p}: {lista_py_ventas[p][3]}\")\n",
        "\n",
        "dia=\"jueves\"\n",
        "suma=0\n",
        "for p in range(4):\n",
        "  print(lista_py_ventas[p][3])\n",
        "  suma=suma+lista_py_ventas[p][3]\n",
        "print(f'La suma total de ventas del día {dia} es:', suma)"
      ]
    },
    {
      "cell_type": "code",
      "source": [
        "import numpy as np\n",
        "\n",
        "vector_np_ventas=np.array(lista_py_ventas)\n",
        "print(vector_np_ventas)\n",
        "\n",
        "print(vector_np_ventas[2,1])\n",
        "print(lista_py_ventas[0][0])\n",
        "\n",
        "total = np.sum(vector_np_ventas)\n",
        "print(total)\n",
        "\n",
        "subtotal_por_producto_semanal=np.sum(vector_np_ventas, axis=1)\n",
        "\n",
        "print(f\"Subtotal por producto semanal: {subtotal_por_producto_semanal}\")\n",
        "\n",
        "subtotal_producto_a = subtotal_por_producto_semanal[0]\n",
        "\n",
        "print(f\"Subtotal ventas del producto A: {subtotal_producto_a}\")"
      ],
      "metadata": {
        "colab": {
          "base_uri": "https://localhost:8080/"
        },
        "id": "ZQeBKyU8kVos",
        "outputId": "72758689-d57a-449a-d9ff-7e54c476b437"
      },
      "execution_count": null,
      "outputs": [
        {
          "output_type": "stream",
          "name": "stdout",
          "text": [
            "[[20 15 25 30 18 22 24]\n",
            " [12 20 14  8 15 18 16]\n",
            " [35 28 32 30 26 24 30]\n",
            " [40 38 45 42 39 41 37]]\n",
            "28\n",
            "20\n",
            "744\n",
            "Subtotal por producto semanal: [154 103 205 282]\n",
            "Subtotal ventas del producto A: 154\n"
          ]
        }
      ]
    },
    {
      "cell_type": "code",
      "source": [
        "subtotal_por_dia=np.sum(vector_np_ventas, axis=0)\n",
        "subtotal_por_dia\n",
        "\n",
        "subtotal_jueves=subtotal_por_dia[3]\n",
        "\n",
        "print(f\"Subtotal de ventas del día Jueves: {subtotal_jueves}\")"
      ],
      "metadata": {
        "colab": {
          "base_uri": "https://localhost:8080/"
        },
        "id": "vg0G5hNHkZg-",
        "outputId": "2f9d1e01-e943-4148-b7cf-5794df7cf329"
      },
      "execution_count": null,
      "outputs": [
        {
          "output_type": "stream",
          "name": "stdout",
          "text": [
            "Subtotal de ventas del día Jueves: 110\n"
          ]
        }
      ]
    },
    {
      "cell_type": "code",
      "source": [
        "subtotal_por_dia=np.sum(vector_np_ventas, axis=0)\n",
        "print(f\"Subtotal de ventas para cada dia de la semana: {subtotal_por_dia}\")"
      ],
      "metadata": {
        "colab": {
          "base_uri": "https://localhost:8080/"
        },
        "id": "Fu3jj9Iikag7",
        "outputId": "ef9929bd-74a0-45e5-ae11-c518d89c302e"
      },
      "execution_count": null,
      "outputs": [
        {
          "output_type": "stream",
          "name": "stdout",
          "text": [
            "Subtotal de ventas para cada dia de la semana: [107 101 116 110  98 105 107]\n"
          ]
        }
      ]
    },
    {
      "cell_type": "code",
      "source": [
        "subtotal_por_dia=np.sum(vector_np_ventas, axis=1)\n",
        "print(f\"Subtotal de ventas para cada semana: {subtotal_por_dia}\")"
      ],
      "metadata": {
        "colab": {
          "base_uri": "https://localhost:8080/"
        },
        "id": "EX9biyjukbkU",
        "outputId": "457173c8-698d-4517-f6f5-92e1e11a2988"
      },
      "execution_count": null,
      "outputs": [
        {
          "output_type": "stream",
          "name": "stdout",
          "text": [
            "Subtotal de ventas para cada semana: [154 103 205 282]\n"
          ]
        }
      ]
    },
    {
      "cell_type": "code",
      "source": [
        "import numpy as np\n",
        "goles_messi = []\n",
        "equipos_messi = [\"Argentina\", \"FC Barcelona\", \"PSG\", \"Inter de Miami\"]\n",
        "\n",
        "def numero_int_positivo(valor):\n",
        "    try:\n",
        "        valor = int(valor)\n",
        "        if valor > 0:\n",
        "            return True\n",
        "        else:\n",
        "            return False\n",
        "    except:\n",
        "        return False\n",
        "\n",
        "\"\"\"\n",
        "valor = input(\"Escribir numero: \")\n",
        "numero_int_positivo(valor)\n",
        "\"\"\"\n",
        "indice = 0\n",
        "maximo = 4\n",
        "while indice < maximo:\n",
        "    equipo = equipos_messi[indice]\n",
        "    print(equipo)\n",
        "    goles = input(\"Ingrese los goles de Messi con este equipo: \")\n",
        "    if numero_int_positivo(goles) == True:\n",
        "        goles = int(goles)\n",
        "        goles_messi.append(goles)\n",
        "        indice = indice + 1\n",
        "    elif goles == \"cancelar\":\n",
        "        break\n",
        "    else:\n",
        "        print(\"Error: Debes ingresar un número entero positivo.\")\n",
        "\n",
        "\n",
        "goles_messi = np.array(goles_messi)\n",
        "print(f\"Lista de goles de Messi: {goles_messi}\")\n",
        "suma_goles = np.sum(goles_messi)\n",
        "print(f\"El total de goles de Messi entre todos los equipos es: {suma_goles}\")"
      ],
      "metadata": {
        "colab": {
          "base_uri": "https://localhost:8080/"
        },
        "id": "ZIXbZhkekfQc",
        "outputId": "412efee4-ee81-4b8d-e108-69ec0c3c09fa"
      },
      "execution_count": null,
      "outputs": [
        {
          "output_type": "stream",
          "name": "stdout",
          "text": [
            "Argentina\n",
            "Ingrese los goles de Messi con este equipo: 10\n",
            "FC Barcelona\n",
            "Ingrese los goles de Messi con este equipo: 20\n",
            "PSG\n",
            "Ingrese los goles de Messi con este equipo: 30\n",
            "Inter de Miami\n",
            "Ingrese los goles de Messi con este equipo: 40\n",
            "Lista de goles de Messi: [10 20 30 40]\n",
            "El total de goles de Messi entre todos los equipos es: 100\n"
          ]
        }
      ]
    },
    {
      "cell_type": "code",
      "source": [
        "lista = []\n",
        "lista2 = []\n",
        "filas = [\"Partidos jugados\", \"Títulos obtenidos\"]\n",
        "columnas = [\"Argentina\", \"Barcelona\", \"PSG\", \"Inter de Miami\"]\n",
        "\n",
        "indice = 0\n",
        "maximo = 4\n",
        "\n",
        "\n",
        "while indice < maximo:\n",
        "    equipo = columnas[indice]\n",
        "    print(columnas[indice])\n",
        "    partidos = input(\"Ingrese los partidos de Messi con este equipo: \")\n",
        "    if numero_int_positivo(partidos) == True:\n",
        "        partidos = int(partidos)\n",
        "        lista.append(partidos)\n",
        "        indice = indice + 1\n",
        "    elif partidos == \"cancelar\":\n",
        "        break\n",
        "    else:\n",
        "        print(\"Error: Debes ingresar un número entero positivo.\")\n",
        "\n",
        "indice = indice - 4\n",
        "\n",
        "while indice < maximo:\n",
        "    equipo = columnas[indice]\n",
        "    print(columnas7\n",
        "     [indice])\n",
        "    titulos = input(\"Ingrese los titulos de Messi con este equipo: \")\n",
        "    if numero_int_positivo(titulos) == True:\n",
        "        titulos = int(titulos)\n",
        "        lista2.append(titulos)\n",
        "        indice = indice + 1\n",
        "    elif titulos == \"cancelar\":\n",
        "        break\n",
        "    else:\n",
        "        print(\"Error: Debes ingresar un número entero positivo.\")\n",
        "\n",
        "\n",
        "print(\"La tabla ingresada como lista de Python es: \")\n",
        "print(lista)\n",
        "print(lista2)\n",
        "\n",
        "matriz = np.array(lista + lista2).reshape(2,4)\n",
        "print(\"La matriz de NumPy resultante es:\")\n",
        "print(matriz)\n",
        "\n",
        "partidos_argentina_barcelona = matriz[0, 0:2]\n",
        "suma_partidos = np.sum(partidos_argentina_barcelona)\n",
        "print(\"Suma de partidos jugados con Argentina y Barcelona:\", suma_partidos)"
      ],
      "metadata": {
        "colab": {
          "base_uri": "https://localhost:8080/"
        },
        "id": "YtmyJA4Ckhyk",
        "outputId": "75243088-2eb5-45c1-f544-0ee71012dc00"
      },
      "execution_count": null,
      "outputs": [
        {
          "output_type": "stream",
          "name": "stdout",
          "text": [
            "Argentina\n",
            "Ingrese los partidos de Messi con este equipo: 1\n",
            "Barcelona\n",
            "Ingrese los partidos de Messi con este equipo: 2\n",
            "PSG\n",
            "Ingrese los partidos de Messi con este equipo: 3\n",
            "Inter de Miami\n",
            "Ingrese los partidos de Messi con este equipo: 4\n",
            "Argentina\n",
            "Ingrese los titulos de Messi con este equipo: 5\n",
            "Barcelona\n",
            "Ingrese los titulos de Messi con este equipo: 6\n",
            "PSG\n",
            "Ingrese los titulos de Messi con este equipo: 7\n",
            "Inter de Miami\n",
            "Ingrese los titulos de Messi con este equipo: 8\n",
            "La tabla ingresada como lista de Python es: \n",
            "[1, 2, 3, 4]\n",
            "[5, 6, 7, 8]\n",
            "La matriz de NumPy resultante es:\n",
            "[[1 2 3 4]\n",
            " [5 6 7 8]]\n",
            "Suma de partidos jugados con Argentina y Barcelona: 3\n"
          ]
        }
      ]
    }
  ]
}